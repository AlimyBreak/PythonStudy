{
 "cells": [
  {
   "cell_type": "markdown",
   "metadata": {},
   "source": [
    "# re模块\n",
    "\n"
   ]
  },
  {
   "cell_type": "code",
   "execution_count": 2,
   "metadata": {},
   "outputs": [
    {
     "name": "stdout",
     "output_type": "stream",
     "text": [
      "<re.Match object; span=(7, 12), match='Fishc'>\n",
      "7\n"
     ]
    }
   ],
   "source": [
    "import re\n",
    "print(re.search(r'Fishc','I love Fishc.com!'))\n",
    "print('I love Fishc.com!'.find('Fishc'))"
   ]
  },
  {
   "cell_type": "code",
   "execution_count": 7,
   "metadata": {},
   "outputs": [
    {
     "name": "stdout",
     "output_type": "stream",
     "text": [
      "<re.Match object; span=(0, 1), match='I'>\n",
      "<re.Match object; span=(0, 2), match='I '>\n",
      "<re.Match object; span=(2, 5), match='lov'>\n",
      "<re.Match object; span=(12, 13), match='.'>\n"
     ]
    }
   ],
   "source": [
    "#通配符 . 一个点 可以匹配任何一个除开换行符以外的符号 \n",
    "import re\n",
    "print(re.search(r'.','I love Fishc.com!'))\n",
    "print(re.search(r'..','I love Fishc.com!'))\n",
    "print(re.search(r'lo.','I love Fishc.com!'))\n",
    "print(re.search(r'\\.','I love Fishc.com!'))\n",
    "\n",
    "\n"
   ]
  },
  {
   "cell_type": "code",
   "execution_count": 10,
   "metadata": {},
   "outputs": [
    {
     "name": "stdout",
     "output_type": "stream",
     "text": [
      "<re.Match object; span=(1, 3), match='12'>\n",
      "<re.Match object; span=(1, 4), match='123'>\n",
      "<re.Match object; span=(1, 4), match='123'>\n"
     ]
    }
   ],
   "source": [
    "# 数字匹配  \\d\n",
    "import re\n",
    "print(re.search(r'\\d\\d','d123'))\n",
    "print(re.search(r'\\d\\d\\d','d123'))\n",
    "print(re.search(r'\\d\\d\\d','d123'))"
   ]
  },
  {
   "cell_type": "code",
   "execution_count": 58,
   "metadata": {},
   "outputs": [
    {
     "name": "stdout",
     "output_type": "stream",
     "text": [
      "<re.Match object; span=(0, 15), match='192.192.192.192'>\n",
      "<re.Match object; span=(0, 1), match='I'>\n",
      "<re.Match object; span=(2, 3), match='l'>\n",
      "<re.Match object; span=(7, 8), match='2'>\n",
      "<re.Match object; span=(1, 6), match='abbbc'>\n",
      "None\n",
      "<re.Match object; span=(1, 7), match='abbbbc'>\n",
      "None\n",
      "<re.Match object; span=(0, 1), match='0'>\n",
      "<re.Match object; span=(0, 1), match='1'>\n",
      "<re.Match object; span=(0, 1), match='2'>\n",
      "<re.Match object; span=(0, 1), match='5'>\n",
      "None\n",
      "([1]\\d\\d|2[0-4]\\d|25[0-5]|\\d\\d|\\d)\\.([1]\\d\\d|2[0-4]\\d|25[0-5]|\\d\\d|\\d)\\.([1]\\d\\d|2[0-4]\\d|25[0-5]|\\d\\d|\\d)\\.([1]\\d\\d|2[0-4]\\d|25[0-5]|\\d\\d|\\d)\n",
      "<re.Match object; span=(0, 10), match='1.168.1.27'>\n"
     ]
    }
   ],
   "source": [
    "# 匹配IP地址\n",
    "import re\n",
    "print(re.search(r'\\d\\d\\d\\.\\d\\d\\d\\.\\d\\d\\d\\.\\d\\d\\d','192.192.192.192'))\n",
    "print(re.search(r'[aeiouAEIOU]','I love Fishc.com!')) \n",
    "print(re.search(r'[a-z]','I love Fishc.com!')) \n",
    "print(re.search(r'[0-9]','I ~love2 Fishc.com!')) \n",
    "print(re.search(r'ab{3}c','cabbbcc'))\n",
    "print(re.search(r'ab{3}c','cabbbbcc'))\n",
    "print(re.search(r'ab{3,10}c','cabbbbcc'))\n",
    "print(re.search(r'[0-25]','4'))\n",
    "print(re.search(r'[0-25]','0'))\n",
    "print(re.search(r'[0-25]','1'))\n",
    "print(re.search(r'[0-25]','2'))\n",
    "print(re.search(r'[0-25]','5'))\n",
    "#IP\n",
    "print(re.search(r'[01]\\d\\d|2[0-5][0-5]','5'))  #\n",
    "\n",
    "re_str = r'([1]\\d\\d|2[0-4]\\d|25[0-5]|\\d\\d|\\d)\\.'\n",
    "re_str = re_str*3 + re_str[:-2];\n",
    "print(re_str)\n",
    "\n",
    "print(re.search(re_str,'1.168.1.27'))  #?????\n"
   ]
  },
  {
   "cell_type": "code",
   "execution_count": null,
   "metadata": {},
   "outputs": [],
   "source": []
  }
 ],
 "metadata": {
  "kernelspec": {
   "display_name": "Python 3",
   "language": "python",
   "name": "python3"
  },
  "language_info": {
   "codemirror_mode": {
    "name": "ipython",
    "version": 3
   },
   "file_extension": ".py",
   "mimetype": "text/x-python",
   "name": "python",
   "nbconvert_exporter": "python",
   "pygments_lexer": "ipython3",
   "version": "3.7.1"
  }
 },
 "nbformat": 4,
 "nbformat_minor": 2
}
