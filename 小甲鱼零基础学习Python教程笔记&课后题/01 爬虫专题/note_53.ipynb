{
 "cells": [
  {
   "cell_type": "markdown",
   "metadata": {},
   "source": [
    "# 一、网页爬虫\n",
    "## 遵循一定规则访问网络资源、获取网络资源。\n",
    "## 千里之行，始(死)于足下?????????"
   ]
  },
  {
   "cell_type": "markdown",
   "metadata": {},
   "source": [
    "# 二、python 如何访问互联网\n",
    "## url + lib = urllib\n",
    "## url:统一资源定位\n",
    "## url的一般格式：（带方括号[]的为可选项）:\n",
    "## protocol://hostname[:port]/path/[;parameters][?query]#frament\n",
    "## 三部分：\n",
    "### 1、协议：http、https,ftp,file,ed2k....\n",
    "### 2、存放资源的服务器域名系统或ip地址，有时包含端口号，各种传输协议都有默认的端口号，如http的默认端口是80\n",
    "### 3、资源的具体地址\n",
    "### 4、其他参数\n",
    "  "
   ]
  },
  {
   "cell_type": "markdown",
   "metadata": {},
   "source": [
    "# 三、urllib简要介绍\n",
    "## urllib是个包，包含四个模块：urllib.request,urllib.error,urllib.parse,urllib.robotparser\n",
    "## 主要讲解内容为urllib.request"
   ]
  },
  {
   "cell_type": "markdown",
   "metadata": {},
   "source": [
    "# 四、urllib.request.urlopen"
   ]
  },
  {
   "cell_type": "code",
   "execution_count": 6,
   "metadata": {},
   "outputs": [
    {
     "name": "stdout",
     "output_type": "stream",
     "text": [
      "http://www.baidu.com\n",
      "Bdpagetype: 1\n",
      "Bdqid: 0xdea71a2f00105f84\n",
      "Cache-Control: private\n",
      "Content-Type: text/html\n",
      "Cxy_all: baidu+43fe4163991de796f9afb882ddeddd4d\n",
      "Date: Sun, 31 Mar 2019 15:36:33 GMT\n",
      "Expires: Sun, 31 Mar 2019 15:35:38 GMT\n",
      "P3p: CP=\" OTI DSP COR IVA OUR IND COM \"\n",
      "Server: BWS/1.1\n",
      "Set-Cookie: BAIDUID=759EB30321862015F863346A310FBAB5:FG=1; expires=Thu, 31-Dec-37 23:55:55 GMT; max-age=2147483647; path=/; domain=.baidu.com\n",
      "Set-Cookie: BIDUPSID=759EB30321862015F863346A310FBAB5; expires=Thu, 31-Dec-37 23:55:55 GMT; max-age=2147483647; path=/; domain=.baidu.com\n",
      "Set-Cookie: PSTM=1554046593; expires=Thu, 31-Dec-37 23:55:55 GMT; max-age=2147483647; path=/; domain=.baidu.com\n",
      "Set-Cookie: delPer=0; path=/; domain=.baidu.com\n",
      "Set-Cookie: BDSVRTM=0; path=/\n",
      "Set-Cookie: BD_HOME=0; path=/\n",
      "Set-Cookie: H_PS_PSSID=1468_21108_18559_28774_28723_28557_28697_28584_26350_28603_28627_28605; path=/; domain=.baidu.com\n",
      "Vary: Accept-Encoding\n",
      "X-Ua-Compatible: IE=Edge,chrome=1\n",
      "Connection: close\n",
      "Transfer-Encoding: chunked\n",
      "\n",
      "\n",
      "200\n"
     ]
    }
   ],
   "source": [
    "import urllib.request\n",
    "respone_obj = urllib.request.urlopen('http://www.baidu.com')\n",
    "#print(respone_obj)\n",
    "html = respone_obj.read()\n",
    "print(respone_obj.geturl())\n",
    "print(respone_obj.info())\n",
    "print(respone_obj.getcode())\n",
    "html = html.decode('utf-8')\n",
    "#print(html)\n"
   ]
  },
  {
   "cell_type": "code",
   "execution_count": null,
   "metadata": {},
   "outputs": [],
   "source": []
  }
 ],
 "metadata": {
  "kernelspec": {
   "display_name": "Python 3",
   "language": "python",
   "name": "python3"
  },
  "language_info": {
   "codemirror_mode": {
    "name": "ipython",
    "version": 3
   },
   "file_extension": ".py",
   "mimetype": "text/x-python",
   "name": "python",
   "nbconvert_exporter": "python",
   "pygments_lexer": "ipython3",
   "version": "3.7.1"
  }
 },
 "nbformat": 4,
 "nbformat_minor": 2
}
