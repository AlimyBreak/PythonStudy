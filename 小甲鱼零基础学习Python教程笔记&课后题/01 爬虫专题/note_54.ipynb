{
 "cells": [
  {
   "cell_type": "markdown",
   "metadata": {},
   "source": [
    "# 一、下载一只猫\n",
    "## placekitten.com/g/200/300"
   ]
  },
  {
   "cell_type": "code",
   "execution_count": 2,
   "metadata": {},
   "outputs": [
    {
     "name": "stdout",
     "output_type": "stream",
     "text": [
      "http://placekitten.com/g/200/300\n",
      "Date: Mon, 08 Apr 2019 14:53:06 GMT\n",
      "Content-Type: image/jpeg\n",
      "Content-Length: 9884\n",
      "Connection: close\n",
      "Set-Cookie: __cfduid=dbd246dfe3556f00542b034e4bc00b5cc1554735186; expires=Tue, 07-Apr-20 14:53:06 GMT; path=/; domain=.placekitten.com; HttpOnly\n",
      "Access-Control-Allow-Origin: *\n",
      "Cache-Control: public, max-age=86400\n",
      "Expires: Tue, 09 Apr 2019 14:53:06 GMT\n",
      "CF-Cache-Status: HIT\n",
      "Accept-Ranges: bytes\n",
      "Vary: Accept-Encoding\n",
      "Server: cloudflare\n",
      "CF-RAY: 4c4511a68bd696d6-FRA\n",
      "\n",
      "\n",
      "200\n"
     ]
    }
   ],
   "source": [
    "#download a cat\n",
    "import urllib.request \n",
    "responce = urllib.request.urlopen('http://placekitten.com/g/200/300') #既可以打开一个string，也可以直接打开一个 Request Object\n",
    "# req = urllib.request.Request('http://placekitten.com/g/200/300')\n",
    "# responce = urllib.request.urlopen(req)\n",
    "cat_img = responce.read();\n",
    "print(responce.geturl())\n",
    "print(responce.info())\n",
    "print(responce.getcode())\n",
    "\n",
    "with open('cat_200_300.jpg','wb') as f:\n",
    "    f.write(cat_img)\n"
   ]
  },
  {
   "cell_type": "markdown",
   "metadata": {},
   "source": [
    "# 二、有道词典\n",
    "##  fanyi.youdao.com\n",
    "## 审查元素-network(可以拦截到很多请求)\n",
    "## get\n",
    "## post \n",
    "## 如何提交表单"
   ]
  },
  {
   "cell_type": "code",
   "execution_count": 13,
   "metadata": {},
   "outputs": [
    {
     "name": "stdout",
     "output_type": "stream",
     "text": [
      "{\"errorCode\":50}\n"
     ]
    }
   ],
   "source": [
    "#translation.py\n",
    "import urllib.request\n",
    "import urllib.parse\n",
    "import time\n",
    "import random\n",
    "import hashlib\n",
    "\n",
    "def salt_sign(keyword):\n",
    "    #m = hashlib.md5()\n",
    "    now_time = int(time.time()*1000)\n",
    "    salt = now_time+random.randint(1,10)   #时间戳生成的13位\n",
    "    sign = \"fanyideskweb\" + keyword + str(salt) + \"p09@Bn{h02_BIEe]$P^nG\"\n",
    "    #m.update(bytes(sign,encoding='utf-8'))\n",
    "    #sign = m.hexdigest()\n",
    "    sign = hashlib.md5(sign.encode('utf-8')).hexdigest()\n",
    "    return (salt,sign,now_time)\n",
    "\n",
    "def translate(keyword):\n",
    "        #取出salt,sign和当前时间\n",
    "    salt,sign,now_time = salt_sign(keyword)\n",
    "    url = 'http://fanyi.youdao.com/translate_o?smartresult=dict&smartresult=rule'   #Request URL\n",
    "    data = {\n",
    "        \n",
    "        'i':keyword,\n",
    "        'from':'AUTO',\n",
    "        'to':'AUTO',\n",
    "        'smartresult':'dict',\n",
    "        'client':'fanyideskweb',\n",
    "        'salt':salt,\n",
    "        'sign':sign,\n",
    "        'doctype':'json',\n",
    "        'version':'2.1',\n",
    "        'keyfrom':'fanyi.web'\n",
    "        #data['ts']='1554735585780',                        #???\n",
    "        #data['bv']='e2a78ed30c66e16a857c5b6486a1d326'     #???\n",
    "    };\n",
    "    #信息封装信息\n",
    "    data = urllib.parse.urlencode(data).encode('utf-8'); #进行编码\n",
    "    responce = urllib.request.urlopen(url,data);\n",
    "    html = responce.read().decode('utf-8');\n",
    "    print(html)\n",
    "translate('我爱你')#遭遇失败"
   ]
  },
  {
   "cell_type": "code",
   "execution_count": 14,
   "metadata": {},
   "outputs": [
    {
     "name": "stdout",
     "output_type": "stream",
     "text": [
      "请输入需要翻译的内容:你好\n",
      "\"你好\"\n",
      "翻译的内容是:\n",
      "hello\n",
      "====================\n",
      "请输入需要翻译的内容:q\n",
      "翻译结束\n"
     ]
    }
   ],
   "source": [
    "#有道翻译使用requests\n",
    "# 参考连接\n",
    "# https://blog.csdn.net/qq_39905917/article/details/89065502\n",
    "import requests\n",
    "import time,random,hashlib\n",
    "\n",
    "#生成data中salt和sign两个数据\n",
    "def salt_sign(keyword):\n",
    "    #m = hashlib.md5()\n",
    "    now_time = int(time.time()*1000)\n",
    "    salt = now_time+random.randint(1,10)   #时间戳生成的13位\n",
    "    sign = \"fanyideskweb\" + keyword + str(salt) + \"p09@Bn{h02_BIEe]$P^nG\"\n",
    "    #m.update(bytes(sign,encoding='utf-8'))\n",
    "    #sign = m.hexdigest()\n",
    "    sign = hashlib.md5(sign.encode('utf-8')).hexdigest()\n",
    "    return (salt,sign,now_time)\n",
    "        \n",
    "\n",
    "def translate(keyword):\n",
    "    #取出salt,sign和当前时间\n",
    "    salt,sign,now_time = salt_sign(keyword)\n",
    "    url = 'http://fanyi.youdao.com/translate_o?smartresult=dict&smartresult=rule'   #Request URL\n",
    "    #data提交制定\n",
    "    data = {\n",
    "        'action':'FY_BY_REALTIME',\n",
    "        'client':'fanyideskweb',\n",
    "        'doctype':'json',\n",
    "        'from':'AUTO',\n",
    "        'i':keyword,   #表示要翻译的语句\n",
    "        'keyfrom':'fanyi.web',\n",
    "        'salt':salt,\n",
    "        'sign':sign,\n",
    "        'smartresult':'dict',\n",
    "        'to':'AUTO',\n",
    "        'typoResult':'false',\n",
    "        'version':'2.1',\n",
    "\t}\n",
    "    #header信息制定\n",
    "    headers = {\n",
    "        'Accept':'application/json, text/javascript, */*; q=0.01',\n",
    "        #'Accept-Encoding':'gzip, deflate',\n",
    "        'Accept-Language':'zh-CN,zh;q=0.9',\n",
    "        'Connection':'keep-alive',\n",
    "        #'Content-Length':'218',#len(data),\n",
    "        'Content-Type':'application/x-www-form-urlencoded; charset=UTF-8',\n",
    "        'Host':'fanyi.youdao.com',\n",
    "        'Origin':'http://fanyi.youdao.com',\n",
    "        'Referer':'http://fanyi.youdao.com/',\n",
    "        'User-Agent':'Mozilla/5.0 (Windows NT 10.0; WOW64) AppleWebKit/537.36 (KHTML, like Gecko) Chrome/59.0.3071.104 Safari/537.36',\n",
    "        'Cookie':'OUTFOX_SEARCH_USER_ID=-436151303@10.169.0.83; JSESSIONID=aaajO50X4odGG5auUeLpw; OUTFOX_SEARCH_USER_ID_NCOO=806738224.8182715; fanyi-ad-id=44881; fanyi-ad-closed=1; Hm_lvt_4e5bdf78b2b9fcb88736fc67709f2806=1528556613,1528556720,1528557273; Hm_lpvt_4e5bdf78b2b9fcb88736fc67709f2806=1528557273; Hm_lvt_cc903faaed69cca18f7cf0997b2e62c9=1528556613,1528556720,1528557273; Hm_lpvt_cc903faaed69cca18f7cf0997b2e62c9=1528557273; ___rl__test__cookies'+str(now_time),\n",
    "        'X-Requested-With':'XMLHttpRequest',\n",
    "    }\n",
    "\n",
    "    #将提交信息封装\n",
    "    res = requests.post(url,data=data,headers=headers)\n",
    "    #提取reponse的信息\n",
    "    str_json = res.json()\n",
    "    #print(str_json)\n",
    "    print('\"%s\"\\n翻译的内容是:\\n%s' % (str_json['translateResult'][0][0]['src'],str_json['translateResult'][0][0]['tgt']))\n",
    "\n",
    "# 程序主入口\n",
    "if __name__ == '__main__':\n",
    "    while True:\n",
    "        keyword = input('请输入需要翻译的内容:')\n",
    "        if (keyword == 'q' or keyword == 'Q'):   #循环结束的条件\n",
    "            print('翻译结束')\n",
    "            break\n",
    "        translate(keyword)\n",
    "        print('='*20)   #打印分界线\n"
   ]
  },
  {
   "cell_type": "code",
   "execution_count": 15,
   "metadata": {},
   "outputs": [
    {
     "name": "stdout",
     "output_type": "stream",
     "text": [
      "请输入需要翻译的内容:你好\n",
      "{\"errorCode\":50}\n"
     ]
    }
   ],
   "source": [
    "#课堂代码,已经获取正确结果\n",
    "import urllib.request\n",
    "import urllib.parse\n",
    "import json\n",
    "\n",
    "content = input(\"请输入需要翻译的内容:\")\n",
    "url = 'http://fanyi.youdao.com/translate_o?smartresult=dict&smartresult=rule';\n",
    "data = {};\n",
    "data['type'] = 'AUTO';\n",
    "data['i'] = content;\n",
    "data['doctype'] = 'json';\n",
    "data['xmlVersion'] = '1.6';\n",
    "data['keyfrom'] = 'fanyi.web';\n",
    "data['ue'] = 'utf-8';\n",
    "data['typoResult'] = 'true';\n",
    "data = urllib.parse.urlencode(data).encode('utf-8');\n",
    "responce = urllib.request.urlopen(url,data);\n",
    "html = responce.read().decode('utf-8');\n",
    "print(html)"
   ]
  },
  {
   "cell_type": "code",
   "execution_count": 17,
   "metadata": {},
   "outputs": [
    {
     "name": "stdout",
     "output_type": "stream",
     "text": [
      "请输入需要翻译的内容:你好\n",
      "{\"error\":997,\"from\":\"zh\",\"to\":\"en\",\"query\":\"\\u6211\\u7231\\u4f60\"}\n"
     ]
    }
   ],
   "source": [
    "#尝试换成百度翻译\n",
    "import urllib.request\n",
    "import urllib.parse\n",
    "import json\n",
    "\n",
    "content = input(\"请输入需要翻译的内容:\")\n",
    "url = 'https://fanyi.baidu.com/v2transapi';\n",
    "data = {};\n",
    "data['from']='zh';\n",
    "data['to']='en';\n",
    "data['query']='我爱你';\n",
    "data['transtype']='realtime';\n",
    "data['simple_means_flag']=3;\n",
    "data['sign']='47194.285547';\n",
    "data['token']='4f98e5904a20c81b72c3095bfa71d92c'; #貌似被校验了\n",
    "data = urllib.parse.urlencode(data).encode('utf-8');\n",
    "responce = urllib.request.urlopen(url,data);\n",
    "html = responce.read().decode('utf-8');\n",
    "print(html)\n",
    "\n",
    "\n",
    "\n",
    "\n"
   ]
  },
  {
   "cell_type": "code",
   "execution_count": null,
   "metadata": {},
   "outputs": [],
   "source": []
  }
 ],
 "metadata": {
  "kernelspec": {
   "display_name": "Python 3",
   "language": "python",
   "name": "python3"
  },
  "language_info": {
   "codemirror_mode": {
    "name": "ipython",
    "version": 3
   },
   "file_extension": ".py",
   "mimetype": "text/x-python",
   "name": "python",
   "nbconvert_exporter": "python",
   "pygments_lexer": "ipython3",
   "version": "3.7.1"
  }
 },
 "nbformat": 4,
 "nbformat_minor": 2
}
